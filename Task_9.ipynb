{
 "cells": [
  {
   "cell_type": "code",
   "execution_count": 1,
   "metadata": {},
   "outputs": [
    {
     "name": "stdout",
     "output_type": "stream",
     "text": [
      "Corner 1: Moved to position [0.2531, 0.2195, 0.2895]\n",
      "Corner 2: Moved to position [-0.1469, 0.2195, 0.2895]\n",
      "Corner 3: Moved to position [-0.1872, -0.1708, 0.2895]\n",
      "Corner 4: Moved to position [0.213, -0.1705, 0.2896]\n",
      "Corner 5: Moved to position [0.2531, 0.2198, 0.1691]\n",
      "Corner 6: Moved to position [-0.1468, 0.2201, 0.1692]\n",
      "Corner 7: Moved to position [-0.1871, -0.1711, 0.1691]\n",
      "Corner 8: Moved to position [0.2128, -0.1705, 0.1692]\n",
      "\n",
      "Working Envelope Coordinates:\n",
      "Corner 1: X=0.2531, Y=0.2195, Z=0.2895\n",
      "Corner 2: X=-0.1469, Y=0.2195, Z=0.2895\n",
      "Corner 3: X=-0.1872, Y=-0.1708, Z=0.2895\n",
      "Corner 4: X=0.2130, Y=-0.1705, Z=0.2896\n",
      "Corner 5: X=0.2531, Y=0.2198, Z=0.1691\n",
      "Corner 6: X=-0.1468, Y=0.2201, Z=0.1692\n",
      "Corner 7: X=-0.1871, Y=-0.1711, Z=0.1691\n",
      "Corner 8: X=0.2128, Y=-0.1705, Z=0.1692\n"
     ]
    },
    {
     "data": {
      "text/plain": [
       "{'robotId_2': {'joint_states': {'joint_0': {'position': 0.0,\n",
       "    'velocity': 0.0,\n",
       "    'reaction_forces': (0.0, 0.0, 0.0, 0.0, 0.0, 0.0),\n",
       "    'motor_torque': 0.0},\n",
       "   'joint_1': {'position': 0.0,\n",
       "    'velocity': 0.0,\n",
       "    'reaction_forces': (0.0, 0.0, 0.0, 0.0, 0.0, 0.0),\n",
       "    'motor_torque': 0.0},\n",
       "   'joint_2': {'position': 0.0,\n",
       "    'velocity': 0.0,\n",
       "    'reaction_forces': (0.0, 0.0, 0.0, 0.0, 0.0, 0.0),\n",
       "    'motor_torque': 0.0}},\n",
       "  'robot_position': [0.0, 0.0, 0.03],\n",
       "  'pipette_position': [0.073, 0.0895, 0.1195]}}"
      ]
     },
     "execution_count": 1,
     "metadata": {},
     "output_type": "execute_result"
    }
   ],
   "source": [
    "from sim_class import Simulation\n",
    "# Initialize the simulation\n",
    "sim = Simulation(num_agents=1)\n",
    "\n",
    "# Function to move pipette and record coordinates\n",
    "def move_and_record(sim):\n",
    "    corners = []\n",
    "\n",
    "    # Define velocities to reach each corner of the cube\n",
    "    movements = [\n",
    "        [1, 1, 1],\n",
    "        [-1, 1, 1],\n",
    "        [-1, -1, 1],\n",
    "        [1, -1, 1],\n",
    "        [1, 1, -1],\n",
    "        [-1, 1, -1],\n",
    "        [-1, -1, -1],\n",
    "        [1, -1, -1],\n",
    "    ]\n",
    "\n",
    "\n",
    "    for i, move in enumerate(movements):\n",
    "        try:\n",
    "            velocity_x, velocity_y, velocity_z = move\n",
    "            actions = [[velocity_x, velocity_y, velocity_z, 0]]  # No drop command\n",
    "\n",
    "            # Run simulation step\n",
    "            state = sim.run(actions, num_steps=100)\n",
    "\n",
    "            # Check for and extract pipette position\n",
    "            robot_key = list(state.keys())[0]  # Get the first robot key dynamically\n",
    "            pipette_position = state[robot_key]['pipette_position']\n",
    "            corners.append(pipette_position)\n",
    "            print(f\"Corner {i+1}: Moved to position {pipette_position}\")\n",
    "        except KeyError as e:\n",
    "            print(f\"Error accessing data for corner {i+1}: {e}\")\n",
    "            corners.append(None)  # Mark error position as None\n",
    "        except Exception as e:\n",
    "            print(f\"Unexpected error at corner {i+1}: {e}\")\n",
    "            corners.append(None)\n",
    "\n",
    "    return corners\n",
    "\n",
    "# Run the function and record coordinates\n",
    "working_envelope = move_and_record(sim)\n",
    "\n",
    "# Print all corner coordinates\n",
    "print(\"\\nWorking Envelope Coordinates:\")\n",
    "for i, coord in enumerate(working_envelope):\n",
    "    if coord:\n",
    "        print(f\"Corner {i+1}: X={coord[0]:.4f}, Y={coord[1]:.4f}, Z={coord[2]:.4f}\")\n",
    "    else:\n",
    "        print(f\"Corner {i+1}: Error\")\n",
    "\n",
    "# Reset the simulation\n",
    "sim.reset(num_agents=1)\n"
   ]
  },
  {
   "cell_type": "code",
   "execution_count": null,
   "metadata": {},
   "outputs": [],
   "source": []
  }
 ],
 "metadata": {
  "kernelspec": {
   "display_name": "block_b",
   "language": "python",
   "name": "python3"
  },
  "language_info": {
   "codemirror_mode": {
    "name": "ipython",
    "version": 3
   },
   "file_extension": ".py",
   "mimetype": "text/x-python",
   "name": "python",
   "nbconvert_exporter": "python",
   "pygments_lexer": "ipython3",
   "version": "3.8.16"
  }
 },
 "nbformat": 4,
 "nbformat_minor": 2
}
